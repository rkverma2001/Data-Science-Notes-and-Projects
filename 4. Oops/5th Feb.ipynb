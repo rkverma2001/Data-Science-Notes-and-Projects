{
 "cells": [
  {
   "cell_type": "markdown",
   "id": "00d75c77",
   "metadata": {},
   "source": [
    "### \"Oops\" stands for Object-Oriented Programming System"
   ]
  },
  {
   "cell_type": "code",
   "execution_count": 1,
   "id": "ad1097fd",
   "metadata": {},
   "outputs": [],
   "source": [
    "a = 1"
   ]
  },
  {
   "cell_type": "code",
   "execution_count": 2,
   "id": "de4c5a43",
   "metadata": {},
   "outputs": [
    {
     "name": "stdout",
     "output_type": "stream",
     "text": [
      "<class 'int'>\n"
     ]
    }
   ],
   "source": [
    "print(type(a))"
   ]
  },
  {
   "cell_type": "code",
   "execution_count": 3,
   "id": "d9a962e1",
   "metadata": {},
   "outputs": [
    {
     "name": "stdout",
     "output_type": "stream",
     "text": [
      "<class 'str'>\n"
     ]
    }
   ],
   "source": [
    "print(type(\"pwskills\"))"
   ]
  },
  {
   "cell_type": "code",
   "execution_count": 5,
   "id": "c31980a2",
   "metadata": {},
   "outputs": [],
   "source": [
    "class test:\n",
    "    pass"
   ]
  },
  {
   "cell_type": "code",
   "execution_count": 6,
   "id": "0ec76ae7",
   "metadata": {},
   "outputs": [],
   "source": [
    "a = test()"
   ]
  },
  {
   "cell_type": "code",
   "execution_count": 7,
   "id": "82aa6d7e",
   "metadata": {},
   "outputs": [
    {
     "name": "stdout",
     "output_type": "stream",
     "text": [
      "<class '__main__.test'>\n"
     ]
    }
   ],
   "source": [
    "print(type(a))"
   ]
  },
  {
   "cell_type": "code",
   "execution_count": 11,
   "id": "24b321e5",
   "metadata": {},
   "outputs": [],
   "source": [
    "class pwskills:\n",
    "    \n",
    "    def welcome_msg(self):\n",
    "        print(\"Welcome to pwskills\")"
   ]
  },
  {
   "cell_type": "code",
   "execution_count": 12,
   "id": "7736fbba",
   "metadata": {},
   "outputs": [],
   "source": [
    "rohan = pwskills()"
   ]
  },
  {
   "cell_type": "code",
   "execution_count": 13,
   "id": "ee59f426",
   "metadata": {},
   "outputs": [
    {
     "name": "stdout",
     "output_type": "stream",
     "text": [
      "Welcome to pwskills\n"
     ]
    }
   ],
   "source": [
    "rohan.welcome_msg()"
   ]
  },
  {
   "cell_type": "code",
   "execution_count": 14,
   "id": "151f3b47",
   "metadata": {},
   "outputs": [],
   "source": [
    "sohan = pwskills()"
   ]
  },
  {
   "cell_type": "code",
   "execution_count": 16,
   "id": "e60c5e90",
   "metadata": {},
   "outputs": [
    {
     "name": "stdout",
     "output_type": "stream",
     "text": [
      "Welcome to pwskills\n"
     ]
    }
   ],
   "source": [
    "sohan.welcome_msg()"
   ]
  },
  {
   "cell_type": "code",
   "execution_count": 17,
   "id": "0f85bf62",
   "metadata": {},
   "outputs": [],
   "source": [
    "a = 1"
   ]
  },
  {
   "cell_type": "code",
   "execution_count": 18,
   "id": "58bc87e2",
   "metadata": {},
   "outputs": [],
   "source": [
    "b = 2"
   ]
  },
  {
   "cell_type": "code",
   "execution_count": 19,
   "id": "0898cfb8",
   "metadata": {},
   "outputs": [
    {
     "data": {
      "text/plain": [
       "1"
      ]
     },
     "execution_count": 19,
     "metadata": {},
     "output_type": "execute_result"
    }
   ],
   "source": [
    "a"
   ]
  },
  {
   "cell_type": "code",
   "execution_count": 20,
   "id": "de20fe22",
   "metadata": {},
   "outputs": [
    {
     "data": {
      "text/plain": [
       "2"
      ]
     },
     "execution_count": 20,
     "metadata": {},
     "output_type": "execute_result"
    }
   ],
   "source": [
    "b"
   ]
  },
  {
   "cell_type": "code",
   "execution_count": 21,
   "id": "600daea6",
   "metadata": {},
   "outputs": [],
   "source": [
    "class pwskills1:\n",
    "    \n",
    "    def __init__(self, phone_number, email_id, student_id):\n",
    "        \n",
    "        self.phone_number = phone_number\n",
    "        self.email_id = email_id\n",
    "        self.student_id = student_id\n",
    "        \n",
    "    def return_student_datails(self):\n",
    "        return self.phone_number, self.email_id, self.student_id\n",
    "        \n",
    "    "
   ]
  },
  {
   "cell_type": "code",
   "execution_count": 27,
   "id": "0ccceb65",
   "metadata": {},
   "outputs": [],
   "source": [
    "sohan = pwskills1(96936963, \"sohan@gmail.com\", 192)"
   ]
  },
  {
   "cell_type": "code",
   "execution_count": 28,
   "id": "44b903d7",
   "metadata": {},
   "outputs": [
    {
     "data": {
      "text/plain": [
       "96936963"
      ]
     },
     "execution_count": 28,
     "metadata": {},
     "output_type": "execute_result"
    }
   ],
   "source": [
    "sohan.phone_number"
   ]
  },
  {
   "cell_type": "code",
   "execution_count": 30,
   "id": "cde5f247",
   "metadata": {},
   "outputs": [
    {
     "data": {
      "text/plain": [
       "(96936963, 'sohan@gmail.com', 192)"
      ]
     },
     "execution_count": 30,
     "metadata": {},
     "output_type": "execute_result"
    }
   ],
   "source": [
    "sohan.return_student_datails()"
   ]
  },
  {
   "cell_type": "code",
   "execution_count": 31,
   "id": "631f8d25",
   "metadata": {},
   "outputs": [],
   "source": [
    "rohan = pwskills1(8707878731, \"rohan@gmail.com\", 101)"
   ]
  },
  {
   "cell_type": "code",
   "execution_count": 32,
   "id": "7823a304",
   "metadata": {},
   "outputs": [
    {
     "data": {
      "text/plain": [
       "8707878731"
      ]
     },
     "execution_count": 32,
     "metadata": {},
     "output_type": "execute_result"
    }
   ],
   "source": [
    "rohan.phone_number"
   ]
  },
  {
   "cell_type": "code",
   "execution_count": 33,
   "id": "d9496fd6",
   "metadata": {},
   "outputs": [
    {
     "data": {
      "text/plain": [
       "'rohan@gmail.com'"
      ]
     },
     "execution_count": 33,
     "metadata": {},
     "output_type": "execute_result"
    }
   ],
   "source": [
    "rohan.email_id"
   ]
  },
  {
   "cell_type": "code",
   "execution_count": 34,
   "id": "a6190d4f",
   "metadata": {},
   "outputs": [
    {
     "data": {
      "text/plain": [
       "101"
      ]
     },
     "execution_count": 34,
     "metadata": {},
     "output_type": "execute_result"
    }
   ],
   "source": [
    "rohan.student_id"
   ]
  },
  {
   "cell_type": "code",
   "execution_count": 35,
   "id": "91f8c80b",
   "metadata": {},
   "outputs": [
    {
     "data": {
      "text/plain": [
       "(8707878731, 'rohan@gmail.com', 101)"
      ]
     },
     "execution_count": 35,
     "metadata": {},
     "output_type": "execute_result"
    }
   ],
   "source": [
    "rohan.return_student_datails()"
   ]
  },
  {
   "cell_type": "code",
   "execution_count": 37,
   "id": "bebf42f6",
   "metadata": {},
   "outputs": [],
   "source": [
    "class pwskills2:\n",
    "    \n",
    "    def __init__(ritesh, phone_number, email_id, student_id):\n",
    "        \n",
    "        ritesh.phone_number = phone_number\n",
    "        ritesh.email_id = email_id\n",
    "        ritesh.student_id = student_id\n",
    "        \n",
    "    def return_student_datails(ritesh):\n",
    "        return ritesh.phone_number, ritesh.email_id, ritesh.student_id\n",
    "        "
   ]
  },
  {
   "cell_type": "code",
   "execution_count": 38,
   "id": "88d8fb45",
   "metadata": {},
   "outputs": [],
   "source": [
    "mohan = pwskills2(546948486, \"mohan@gmail.com\", 294)"
   ]
  },
  {
   "cell_type": "code",
   "execution_count": 39,
   "id": "afe88ea6",
   "metadata": {},
   "outputs": [
    {
     "data": {
      "text/plain": [
       "546948486"
      ]
     },
     "execution_count": 39,
     "metadata": {},
     "output_type": "execute_result"
    }
   ],
   "source": [
    "mohan.phone_number"
   ]
  },
  {
   "cell_type": "code",
   "execution_count": 40,
   "id": "176335b2",
   "metadata": {},
   "outputs": [
    {
     "data": {
      "text/plain": [
       "(546948486, 'mohan@gmail.com', 294)"
      ]
     },
     "execution_count": 40,
     "metadata": {},
     "output_type": "execute_result"
    }
   ],
   "source": [
    "mohan.return_student_datails()"
   ]
  },
  {
   "cell_type": "code",
   "execution_count": 47,
   "id": "faf54819",
   "metadata": {},
   "outputs": [],
   "source": [
    "class pwskills3:\n",
    "    \n",
    "    def __init__(ritesh, phone_number, email_id, student_id):\n",
    "        \n",
    "        ritesh.phone_number1 = phone_number\n",
    "        ritesh.email_id = email_id\n",
    "        ritesh.student_id = student_id\n",
    "        \n",
    "    def return_student_datails(ritesh):\n",
    "        return ritesh.phone_number1, ritesh.email_id, ritesh.student_id"
   ]
  },
  {
   "cell_type": "code",
   "execution_count": 48,
   "id": "b9ea37cc",
   "metadata": {},
   "outputs": [],
   "source": [
    "rohan = pwskills3(981959559, \"rohan@gmail.com\", 123)"
   ]
  },
  {
   "cell_type": "code",
   "execution_count": 49,
   "id": "f784471b",
   "metadata": {},
   "outputs": [
    {
     "data": {
      "text/plain": [
       "981959559"
      ]
     },
     "execution_count": 49,
     "metadata": {},
     "output_type": "execute_result"
    }
   ],
   "source": [
    "rohan.phone_number1"
   ]
  },
  {
   "cell_type": "code",
   "execution_count": 50,
   "id": "e740eb21",
   "metadata": {},
   "outputs": [
    {
     "data": {
      "text/plain": [
       "(981959559, 'rohan@gmail.com', 123)"
      ]
     },
     "execution_count": 50,
     "metadata": {},
     "output_type": "execute_result"
    }
   ],
   "source": [
    "rohan.return_student_datails()"
   ]
  },
  {
   "cell_type": "code",
   "execution_count": null,
   "id": "de47f4b4",
   "metadata": {},
   "outputs": [],
   "source": []
  }
 ],
 "metadata": {
  "kernelspec": {
   "display_name": "Python 3 (ipykernel)",
   "language": "python",
   "name": "python3"
  },
  "language_info": {
   "codemirror_mode": {
    "name": "ipython",
    "version": 3
   },
   "file_extension": ".py",
   "mimetype": "text/x-python",
   "name": "python",
   "nbconvert_exporter": "python",
   "pygments_lexer": "ipython3",
   "version": "3.9.13"
  }
 },
 "nbformat": 4,
 "nbformat_minor": 5
}
