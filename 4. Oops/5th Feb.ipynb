{
 "cells": [
  {
   "cell_type": "markdown",
   "id": "590578c0",
   "metadata": {},
   "source": [
    "### \"Oops\" stands for Object-Oriented Programming System"
   ]
  },
  {
   "cell_type": "code",
   "execution_count": 1,
   "id": "55093d3d",
   "metadata": {},
   "outputs": [],
   "source": [
    "a = 1"
   ]
  },
  {
   "cell_type": "code",
   "execution_count": 2,
   "id": "8ab65c68",
   "metadata": {},
   "outputs": [
    {
     "name": "stdout",
     "output_type": "stream",
     "text": [
      "<class 'int'>\n"
     ]
    }
   ],
   "source": [
    "print(type(a))"
   ]
  },
  {
   "cell_type": "code",
   "execution_count": 3,
   "id": "575d7544",
   "metadata": {},
   "outputs": [
    {
     "name": "stdout",
     "output_type": "stream",
     "text": [
      "<class 'str'>\n"
     ]
    }
   ],
   "source": [
    "print(type(\"pwskills\"))"
   ]
  },
  {
   "cell_type": "code",
   "execution_count": 5,
   "id": "6780ffd6",
   "metadata": {},
   "outputs": [],
   "source": [
    "class test:\n",
    "    pass"
   ]
  },
  {
   "cell_type": "code",
   "execution_count": 6,
   "id": "b5351a39",
   "metadata": {},
   "outputs": [],
   "source": [
    "a = test()"
   ]
  },
  {
   "cell_type": "code",
   "execution_count": 7,
   "id": "aa692adf",
   "metadata": {},
   "outputs": [
    {
     "name": "stdout",
     "output_type": "stream",
     "text": [
      "<class '__main__.test'>\n"
     ]
    }
   ],
   "source": [
    "print(type(a))"
   ]
  },
  {
   "cell_type": "code",
   "execution_count": 11,
   "id": "935f9d9c",
   "metadata": {},
   "outputs": [],
   "source": [
    "class pwskills:\n",
    "    \n",
    "    def welcome_msg(self):\n",
    "        print(\"Welcome to pwskills\")"
   ]
  },
  {
   "cell_type": "code",
   "execution_count": 12,
   "id": "667cc439",
   "metadata": {},
   "outputs": [],
   "source": [
    "rohan = pwskills()"
   ]
  },
  {
   "cell_type": "code",
   "execution_count": 13,
   "id": "41bf2d60",
   "metadata": {},
   "outputs": [
    {
     "name": "stdout",
     "output_type": "stream",
     "text": [
      "Welcome to pwskills\n"
     ]
    }
   ],
   "source": [
    "rohan.welcome_msg()"
   ]
  },
  {
   "cell_type": "code",
   "execution_count": 14,
   "id": "5eef63ca",
   "metadata": {},
   "outputs": [],
   "source": [
    "sohan = pwskills()"
   ]
  },
  {
   "cell_type": "code",
   "execution_count": 16,
   "id": "3f974f66",
   "metadata": {},
   "outputs": [
    {
     "name": "stdout",
     "output_type": "stream",
     "text": [
      "Welcome to pwskills\n"
     ]
    }
   ],
   "source": [
    "sohan.welcome_msg()"
   ]
  },
  {
   "cell_type": "code",
   "execution_count": 17,
   "id": "4e4d0ca0",
   "metadata": {},
   "outputs": [],
   "source": [
    "a = 1"
   ]
  },
  {
   "cell_type": "code",
   "execution_count": 18,
   "id": "a13ef91e",
   "metadata": {},
   "outputs": [],
   "source": [
    "b = 2"
   ]
  },
  {
   "cell_type": "code",
   "execution_count": 19,
   "id": "8705342b",
   "metadata": {},
   "outputs": [
    {
     "data": {
      "text/plain": [
       "1"
      ]
     },
     "execution_count": 19,
     "metadata": {},
     "output_type": "execute_result"
    }
   ],
   "source": [
    "a"
   ]
  },
  {
   "cell_type": "code",
   "execution_count": 20,
   "id": "104ecf27",
   "metadata": {},
   "outputs": [
    {
     "data": {
      "text/plain": [
       "2"
      ]
     },
     "execution_count": 20,
     "metadata": {},
     "output_type": "execute_result"
    }
   ],
   "source": [
    "b"
   ]
  },
  {
   "cell_type": "code",
   "execution_count": 21,
   "id": "04a61ad8",
   "metadata": {},
   "outputs": [],
   "source": [
    "class pwskills1:\n",
    "    \n",
    "    def __init__(self, phone_number, email_id, student_id):\n",
    "        \n",
    "        self.phone_number = phone_number\n",
    "        self.email_id = email_id\n",
    "        self.student_id = student_id\n",
    "        \n",
    "    def return_student_datails(self):\n",
    "        return self.phone_number, self.email_id, self.student_id\n",
    "        \n",
    "    "
   ]
  },
  {
   "cell_type": "code",
   "execution_count": 27,
   "id": "d442a10e",
   "metadata": {},
   "outputs": [],
   "source": [
    "sohan = pwskills1(96936963, \"sohan@gmail.com\", 192)"
   ]
  },
  {
   "cell_type": "code",
   "execution_count": 28,
   "id": "b937fb5a",
   "metadata": {},
   "outputs": [
    {
     "data": {
      "text/plain": [
       "96936963"
      ]
     },
     "execution_count": 28,
     "metadata": {},
     "output_type": "execute_result"
    }
   ],
   "source": [
    "sohan.phone_number"
   ]
  },
  {
   "cell_type": "code",
   "execution_count": 30,
   "id": "7bdf89d9",
   "metadata": {},
   "outputs": [
    {
     "data": {
      "text/plain": [
       "(96936963, 'sohan@gmail.com', 192)"
      ]
     },
     "execution_count": 30,
     "metadata": {},
     "output_type": "execute_result"
    }
   ],
   "source": [
    "sohan.return_student_datails()"
   ]
  },
  {
   "cell_type": "code",
   "execution_count": 31,
   "id": "936dc156",
   "metadata": {},
   "outputs": [],
   "source": [
    "rohan = pwskills1(8707878731, \"rohan@gmail.com\", 101)"
   ]
  },
  {
   "cell_type": "code",
   "execution_count": 32,
   "id": "05cf6280",
   "metadata": {},
   "outputs": [
    {
     "data": {
      "text/plain": [
       "8707878731"
      ]
     },
     "execution_count": 32,
     "metadata": {},
     "output_type": "execute_result"
    }
   ],
   "source": [
    "rohan.phone_number"
   ]
  },
  {
   "cell_type": "code",
   "execution_count": 33,
   "id": "46073ea1",
   "metadata": {},
   "outputs": [
    {
     "data": {
      "text/plain": [
       "'rohan@gmail.com'"
      ]
     },
     "execution_count": 33,
     "metadata": {},
     "output_type": "execute_result"
    }
   ],
   "source": [
    "rohan.email_id"
   ]
  },
  {
   "cell_type": "code",
   "execution_count": 34,
   "id": "05a58141",
   "metadata": {},
   "outputs": [
    {
     "data": {
      "text/plain": [
       "101"
      ]
     },
     "execution_count": 34,
     "metadata": {},
     "output_type": "execute_result"
    }
   ],
   "source": [
    "rohan.student_id"
   ]
  },
  {
   "cell_type": "code",
   "execution_count": 35,
   "id": "9c21825a",
   "metadata": {},
   "outputs": [
    {
     "data": {
      "text/plain": [
       "(8707878731, 'rohan@gmail.com', 101)"
      ]
     },
     "execution_count": 35,
     "metadata": {},
     "output_type": "execute_result"
    }
   ],
   "source": [
    "rohan.return_student_datails()"
   ]
  },
  {
   "cell_type": "code",
   "execution_count": 37,
   "id": "3274b69a",
   "metadata": {},
   "outputs": [],
   "source": [
    "class pwskills2:\n",
    "    \n",
    "    def __init__(ritesh, phone_number, email_id, student_id):\n",
    "        \n",
    "        ritesh.phone_number = phone_number\n",
    "        ritesh.email_id = email_id\n",
    "        ritesh.student_id = student_id\n",
    "        \n",
    "    def return_student_datails(ritesh):\n",
    "        return ritesh.phone_number, ritesh.email_id, ritesh.student_id\n",
    "        "
   ]
  },
  {
   "cell_type": "code",
   "execution_count": 38,
   "id": "70548171",
   "metadata": {},
   "outputs": [],
   "source": [
    "mohan = pwskills2(546948486, \"mohan@gmail.com\", 294)"
   ]
  },
  {
   "cell_type": "code",
   "execution_count": 39,
   "id": "99ebd286",
   "metadata": {},
   "outputs": [
    {
     "data": {
      "text/plain": [
       "546948486"
      ]
     },
     "execution_count": 39,
     "metadata": {},
     "output_type": "execute_result"
    }
   ],
   "source": [
    "mohan.phone_number"
   ]
  },
  {
   "cell_type": "code",
   "execution_count": 40,
   "id": "15380def",
   "metadata": {},
   "outputs": [
    {
     "data": {
      "text/plain": [
       "(546948486, 'mohan@gmail.com', 294)"
      ]
     },
     "execution_count": 40,
     "metadata": {},
     "output_type": "execute_result"
    }
   ],
   "source": [
    "mohan.return_student_datails()"
   ]
  },
  {
   "cell_type": "code",
   "execution_count": 47,
   "id": "597898e7",
   "metadata": {},
   "outputs": [],
   "source": [
    "class pwskills3:\n",
    "    \n",
    "    def __init__(ritesh, phone_number, email_id, student_id):\n",
    "        \n",
    "        ritesh.phone_number1 = phone_number\n",
    "        ritesh.email_id = email_id\n",
    "        ritesh.student_id = student_id\n",
    "        \n",
    "    def return_student_datails(ritesh):\n",
    "        return ritesh.phone_number1, ritesh.email_id, ritesh.student_id"
   ]
  },
  {
   "cell_type": "code",
   "execution_count": 48,
   "id": "e0478e02",
   "metadata": {},
   "outputs": [],
   "source": [
    "rohan = pwskills3(981959559, \"rohan@gmail.com\", 123)"
   ]
  },
  {
   "cell_type": "code",
   "execution_count": 49,
   "id": "a5ebf062",
   "metadata": {},
   "outputs": [
    {
     "data": {
      "text/plain": [
       "981959559"
      ]
     },
     "execution_count": 49,
     "metadata": {},
     "output_type": "execute_result"
    }
   ],
   "source": [
    "rohan.phone_number1"
   ]
  },
  {
   "cell_type": "code",
   "execution_count": 50,
   "id": "27b9515b",
   "metadata": {},
   "outputs": [
    {
     "data": {
      "text/plain": [
       "(981959559, 'rohan@gmail.com', 123)"
      ]
     },
     "execution_count": 50,
     "metadata": {},
     "output_type": "execute_result"
    }
   ],
   "source": [
    "rohan.return_student_datails()"
   ]
  }
 ],
 "metadata": {
  "kernelspec": {
   "display_name": "Python 3 (ipykernel)",
   "language": "python",
   "name": "python3"
  },
  "language_info": {
   "codemirror_mode": {
    "name": "ipython",
    "version": 3
   },
   "file_extension": ".py",
   "mimetype": "text/x-python",
   "name": "python",
   "nbconvert_exporter": "python",
   "pygments_lexer": "ipython3",
   "version": "3.9.13"
  }
 },
 "nbformat": 4,
 "nbformat_minor": 5
}
